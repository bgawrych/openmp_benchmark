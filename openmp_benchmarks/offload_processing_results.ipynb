{
 "cells": [
  {
   "cell_type": "code",
   "execution_count": null,
   "metadata": {},
   "outputs": [],
   "source": [
    "import csv\n",
    "import pandas as pd\n",
    "pd.options.plotting.backend = \"plotly\"\n",
    "from os import listdir\n",
    "from os.path import isfile, join\n",
    "import plotly.graph_objects as go"
   ]
  },
  {
   "cell_type": "code",
   "execution_count": null,
   "metadata": {},
   "outputs": [],
   "source": [
    "def generate_data(foldername):\n",
    "    mean_data = {}\n",
    "    stddev_data = {}\n",
    "    filename = f\"{foldername}/out.csv\"\n",
    "    results = pd.read_csv(filename, sep=';')\n",
    "    for i, row in results.iterrows():\n",
    "        desc = row['Descriptor']\n",
    "        mode = row['Mode']\n",
    "        if desc in mean_data:\n",
    "            if mode in mean_data[desc]:\n",
    "                mean_data[desc][mode] += [row['Mean']]\n",
    "                stddev_data[desc][mode] += [row['StdDev']]\n",
    "            else:\n",
    "                mean_data[desc].update({mode: [row['Mean']]})\n",
    "                stddev_data[desc].update({mode: [row['StdDev']]})\n",
    "        else:\n",
    "            mean_data[desc] = {mode: [row['Mean']]}\n",
    "            stddev_data[desc] = {mode: [row['StdDev']]}\n",
    "\n",
    "\n",
    "    return mean_data, stddev_data"
   ]
  },
  {
   "cell_type": "code",
   "execution_count": null,
   "metadata": {},
   "outputs": [],
   "source": [
    "\n",
    "BENCHMARKS = [\n",
    "              'batchnorm',\n",
    "              'conv',\n",
    "              'linear',\n",
    "              'matmul',\n",
    "              'wave'\n",
    "             ]\n",
    "base_path = \"results/offload/\"\n",
    "CONFIGS = [    ##machine    , gpu\n",
    "            (\"e5_2698_v100\", \"V100\"),\n",
    "            (\"gold_6130_rtx2080\", \"RTX2080\"),\n",
    "            (\"i7_7700_GTX_1060\", \"GTX1060\")\n",
    "          ]\n",
    "import plotly.express as px\n",
    "import plotly.graph_objects as go\n",
    "import matplotlib.pyplot as plt\n",
    "\n",
    "for bench in BENCHMARKS:\n",
    "    fig_input = dict()\n",
    "    adv_input = dict()\n",
    "    err_input = dict()\n",
    "    for machine, gpu in CONFIGS:\n",
    "        machine_path = base_path + machine\n",
    "        gcc_data, gcc_stddev = generate_data(f\"{machine_path}/gcc_results/{bench}\")\n",
    "        clang_data, clang_stddev = generate_data(f\"{machine_path}/clang_results/{bench}\")\n",
    "        descriptors = list(gcc_data.keys())\n",
    "        for desc in descriptors:\n",
    "            assert desc in clang_data\n",
    "            if desc not in fig_input:\n",
    "                fig_input[desc] = []\n",
    "            if desc not in adv_input:\n",
    "                adv_input[desc] = dict()\n",
    "                err_input[desc] = dict()\n",
    "\n",
    "            gcc_results = pd.DataFrame(data=gcc_data[desc])\n",
    "            clang_results = pd.DataFrame(data=clang_data[desc])\n",
    "            gcc_error = pd.DataFrame(data=gcc_stddev[desc])\n",
    "            clang_error = pd.DataFrame(data=clang_stddev[desc])\n",
    "            if \"X\" not in adv_input[desc]:\n",
    "                adv_input[desc][\"X\"] = []\n",
    "\n",
    "            adv_input[desc][\"X\"] += [f\"{gpu}\"]\n",
    "            for index, key in enumerate(gcc_results):\n",
    "                if f\"{key}_GCC\" not in adv_input[desc]:\n",
    "                    adv_input[desc][f\"{key}_GCC\"] = []\n",
    "                    adv_input[desc][f\"{key}_CLANG\"] = []\n",
    "                    err_input[desc][f\"{key}_GCC\"] = []\n",
    "                    err_input[desc][f\"{key}_CLANG\"] = []\n",
    "                \n",
    "                adv_input[desc][f\"{key}_GCC\"] += [gcc_results.iloc[0].values[index]]\n",
    "                adv_input[desc][f\"{key}_CLANG\"] += [clang_results.iloc[0].values[index]]\n",
    "                err_input[desc][f\"{key}_GCC\"] += [gcc_error.iloc[0].values[index]]\n",
    "                err_input[desc][f\"{key}_CLANG\"] += [clang_error.iloc[0].values[index]]\n",
    "\n",
    "    for desc, finput in fig_input.items():\n",
    "        X_AXIS = adv_input[desc][\"X\"]\n",
    "        Y_AXIS = {i:adv_input[desc][i] for i in adv_input[desc] if i != \"X\"}\n",
    "        #ERR = {i:err_input[desc][i] for i in err_input[desc]}\n",
    "        fig = go.Figure()\n",
    "        for Y in Y_AXIS:\n",
    "            fig.add_bar(x=X_AXIS, y=adv_input[desc][Y], name=Y,\n",
    "                        error_y=dict(type='data', array=list(err_input[desc][Y]), visible=True))\n",
    "        fig.update_layout({'title':f\"{bench} - {desc}\", 'yaxis': {'type': 'linear'}})\n",
    "        fig.update_layout(\n",
    "                        height=400,\n",
    "                        width=600)\n",
    "        fig.show()\n",
    "\n"
   ]
  },
  {
   "cell_type": "code",
   "execution_count": null,
   "metadata": {},
   "outputs": [],
   "source": []
  }
 ],
 "metadata": {
  "kernelspec": {
   "display_name": "Python 3.9.1 64-bit ('mgr': conda)",
   "name": "python391jvsc74a57bd0d9628356f8fbc89242b320f7b7258c1384f82d42641c6757aae65db85018f7c0"
  },
  "language_info": {
   "name": "python",
   "version": ""
  },
  "metadata": {
   "interpreter": {
    "hash": "d9628356f8fbc89242b320f7b7258c1384f82d42641c6757aae65db85018f7c0"
   }
  }
 },
 "nbformat": 4,
 "nbformat_minor": 5
}